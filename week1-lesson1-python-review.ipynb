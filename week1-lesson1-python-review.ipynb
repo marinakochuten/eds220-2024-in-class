{
 "cells": [
  {
   "cell_type": "markdown",
   "id": "dab61366-35b5-4b8a-a9c9-5bf990374efc",
   "metadata": {},
   "source": [
    "# Python review\n",
    "\n",
    "Short review about some core concepts in Python exemplefied by objects in the Numpy library.\n",
    "Goals:\n",
    "- recall basic Python vocabulary\n",
    "- practice markdown syntax\n",
    "\n",
    "## Libraries and packages\n",
    "\n",
    "**library:** is a collection of code that we can use to perform specific tasks in our programs. It can be a single file or multiple files. \n",
    "\n",
    "**NumPy:**\n",
    "\n",
    "- core library for numerical computing in Python\n",
    "- many of libraries use NumPy arrays as their building blocks\n",
    "- computations on NumPy objects are optimized for speed and memory usage\n",
    "\n",
    "Let's import NumPy with its **standard abbreviation** `np`:"
   ]
  },
  {
   "cell_type": "code",
   "execution_count": 2,
   "id": "589bc02b-7594-45e4-9d88-307dab97d115",
   "metadata": {
    "tags": []
   },
   "outputs": [],
   "source": [
    "import numpy as np"
   ]
  },
  {
   "cell_type": "markdown",
   "id": "14be0b08-88e6-43ca-b509-fc0d8dc6f7fc",
   "metadata": {},
   "source": [
    "(esc + press M twice -> convert code cell to markdown cell)\n",
    "## Variables \n",
    "\n",
    "**variable:** a name we assign to a particular object in Python\n",
    "\n",
    "Example:"
   ]
  },
  {
   "cell_type": "code",
   "execution_count": 3,
   "id": "e1b75568-d0bb-497b-9b13-a446c2a771c9",
   "metadata": {
    "tags": []
   },
   "outputs": [],
   "source": [
    "# Assign a small array to a variable a \n",
    "a = np.array([ [1,1,2], [3,5,8] ])"
   ]
  },
  {
   "cell_type": "markdown",
   "id": "83803838-6c86-4cd6-bbc1-1c56f95cbdf8",
   "metadata": {},
   "source": [
    "To view a variable's value from our Jupyter notebook:"
   ]
  },
  {
   "cell_type": "code",
   "execution_count": 4,
   "id": "2bab0835-edb0-4089-a16a-dda439fdc829",
   "metadata": {
    "tags": []
   },
   "outputs": [
    {
     "data": {
      "text/plain": [
       "array([[1, 1, 2],\n",
       "       [3, 5, 8]])"
      ]
     },
     "execution_count": 4,
     "metadata": {},
     "output_type": "execute_result"
    }
   ],
   "source": [
    "# Run a cell with variable name to show value\n",
    "a"
   ]
  },
  {
   "cell_type": "code",
   "execution_count": 5,
   "id": "a1e4d531-a694-4a5a-9145-b33dbc55d462",
   "metadata": {
    "tags": []
   },
   "outputs": [
    {
     "name": "stdout",
     "output_type": "stream",
     "text": [
      "[[1 1 2]\n",
      " [3 5 8]]\n"
     ]
    }
   ],
   "source": [
    "# Use `print` function to print the value\n",
    "print(a)"
   ]
  },
  {
   "cell_type": "markdown",
   "id": "48f37c97-5f16-412b-966e-6f818be87504",
   "metadata": {},
   "source": [
    "## Objects\n",
    "\n",
    "An **object** is a bundle of properties and actions about something specific\n",
    "\n",
    "\n",
    "## Types\n",
    "\n",
    "Every object in Python has a **type**. The type tells us what kind of object it is. Also known as **class**"
   ]
  },
  {
   "cell_type": "code",
   "execution_count": 6,
   "id": "2cd519b3-1bc5-4bee-8fd0-af30c92bb4e0",
   "metadata": {
    "tags": []
   },
   "outputs": [
    {
     "name": "stdout",
     "output_type": "stream",
     "text": [
      "[[1 1 2]\n",
      " [3 5 8]]\n"
     ]
    },
    {
     "data": {
      "text/plain": [
       "numpy.ndarray"
      ]
     },
     "execution_count": 6,
     "metadata": {},
     "output_type": "execute_result"
    }
   ],
   "source": [
    "# Use the `type` function to see the type/class of a variable/object\n",
    "print(a)\n",
    "type(a)"
   ]
  },
  {
   "cell_type": "code",
   "execution_count": 9,
   "id": "f3d1bcdf-6e9e-4e41-ab62-18b77d5e6230",
   "metadata": {
    "tags": []
   },
   "outputs": [
    {
     "name": "stdout",
     "output_type": "stream",
     "text": [
      "1\n"
     ]
    },
    {
     "data": {
      "text/plain": [
       "numpy.int64"
      ]
     },
     "execution_count": 9,
     "metadata": {},
     "output_type": "execute_result"
    }
   ],
   "source": [
    "# Check the type on an entry in the array by indexing\n",
    "print(a[0,0])\n",
    "type(a[0,0])"
   ]
  },
  {
   "cell_type": "markdown",
   "id": "da6aae88-7548-418e-b6d8-8add5b2d0c66",
   "metadata": {},
   "source": [
    "Notice that 1 is stored as a 64-bit integer. NumPy has its own data types to deal with numbers depending on memory storage and floating point precision"
   ]
  },
  {
   "cell_type": "code",
   "execution_count": 14,
   "id": "78a2035d-4499-4e92-b6d2-92e51d3553a0",
   "metadata": {
    "tags": []
   },
   "outputs": [
    {
     "name": "stdout",
     "output_type": "stream",
     "text": [
      "5\n"
     ]
    }
   ],
   "source": [
    "# CHECK IN! access the value 5 in the array `a`\n",
    "print(a[1,1])"
   ]
  },
  {
   "cell_type": "markdown",
   "id": "7013b0d8-c25d-4b16-86de-23f2cfea4fb9",
   "metadata": {},
   "source": [
    "## Functions\n",
    "\n",
    "**Functions** take in a set of *arguments*, separated by commas, and use those arguments to create an *output*\n",
    "\n",
    "Several built-in functions, most of them are for interacting with the Python basic data types such as:\n",
    "- `int` (integers)\n",
    "- `float` (decimal numbers)\n",
    "- `str` (strings)\n",
    "- `bool` (boolean values)\n",
    "\n",
    "A **parameter** is a variable in the function definition that accepts an argument passed to the function. It is a placeholder in the function that will receive the value of an argument when the function is called. \n",
    "For example, in the function"
   ]
  },
  {
   "cell_type": "code",
   "execution_count": 15,
   "id": "ea907b93-cb4f-4c4c-be76-2f9eee89dcfe",
   "metadata": {
    "tags": []
   },
   "outputs": [],
   "source": [
    "def my_function(parameter1, parameter2):\n",
    "    return parameter1+parameter2"
   ]
  },
  {
   "cell_type": "markdown",
   "id": "e8f645b8-c32e-4b16-88b0-56f531741aa9",
   "metadata": {},
   "source": [
    "`parameter1` and `parameter2` are parameters. When we call the function"
   ]
  },
  {
   "cell_type": "code",
   "execution_count": 16,
   "id": "babebbfc-480c-409c-95eb-2bf5ba815cb0",
   "metadata": {
    "tags": []
   },
   "outputs": [],
   "source": [
    "result = my_function(5, 10)"
   ]
  },
  {
   "cell_type": "markdown",
   "id": "c3f7d31f-accf-4ea7-a87c-1e209f7e116b",
   "metadata": {},
   "source": [
    "we have that `5` and `10` are arguments passed to the function `my_function`"
   ]
  },
  {
   "cell_type": "code",
   "execution_count": 17,
   "id": "697b495c-e5f1-4afa-b3f6-835c4060de59",
   "metadata": {
    "tags": []
   },
   "outputs": [
    {
     "data": {
      "text/plain": [
       "\u001b[0;31mDocstring:\u001b[0m\n",
       "print(value, ..., sep=' ', end='\\n', file=sys.stdout, flush=False)\n",
       "\n",
       "Prints the values to a stream, or to sys.stdout by default.\n",
       "Optional keyword arguments:\n",
       "file:  a file-like object (stream); defaults to the current sys.stdout.\n",
       "sep:   string inserted between values, default a space.\n",
       "end:   string appended after the last value, default a newline.\n",
       "flush: whether to forcibly flush the stream.\n",
       "\u001b[0;31mType:\u001b[0m      builtin_function_or_method\n"
      ]
     },
     "metadata": {},
     "output_type": "display_data"
    }
   ],
   "source": [
    "# Ask for information about what a function does by exectuting `?` followed by function name\n",
    "?print"
   ]
  },
  {
   "cell_type": "markdown",
   "id": "ccb90150-eda0-4257-80b9-cfbacdbf1a5f",
   "metadata": {},
   "source": [
    "## Attributes & methods \n",
    "\n",
    "An **attribute** is a propety of the object, some piece of information about it\n",
    "A **method** is a procedure associated with an object, or a function that acts on the object it is a part of"
   ]
  },
  {
   "cell_type": "code",
   "execution_count": 19,
   "id": "59c1a96f-9280-44cb-b67c-82fc6371e52e",
   "metadata": {
    "tags": []
   },
   "outputs": [
    {
     "data": {
      "text/plain": [
       "array([[1, 2, 3],\n",
       "       [4, 5, 6],\n",
       "       [7, 8, 9]])"
      ]
     },
     "execution_count": 19,
     "metadata": {},
     "output_type": "execute_result"
    }
   ],
   "source": [
    "# A 3x3 array\n",
    "var = np.array([[1,2,3],[4,5,6],[7,8,9]])\n",
    "var"
   ]
  },
  {
   "cell_type": "markdown",
   "id": "24873df9-7e9b-4c99-ad99-c82893416568",
   "metadata": {},
   "source": [
    "`T` is an example of attribute, it returns the transpose of `var`"
   ]
  },
  {
   "cell_type": "code",
   "execution_count": 20,
   "id": "8bdfa593-a76b-4724-965a-6b65d8c640b7",
   "metadata": {
    "tags": []
   },
   "outputs": [
    {
     "name": "stdout",
     "output_type": "stream",
     "text": [
      "[[1 4 7]\n",
      " [2 5 8]\n",
      " [3 6 9]]\n",
      "<class 'numpy.ndarray'>\n"
     ]
    }
   ],
   "source": [
    "print(var.T)\n",
    "print(type(var.T))"
   ]
  },
  {
   "cell_type": "code",
   "execution_count": 21,
   "id": "8e82ab95-2227-4b25-b2fb-de02f0fdce5a",
   "metadata": {
    "tags": []
   },
   "outputs": [
    {
     "name": "stdout",
     "output_type": "stream",
     "text": [
      "(3, 3)\n",
      "<class 'tuple'>\n"
     ]
    }
   ],
   "source": [
    "# `shape`, another attribute, tells us the shape of the array:\n",
    "print(var.shape)\n",
    "print(type(var.shape))"
   ]
  },
  {
   "cell_type": "code",
   "execution_count": 22,
   "id": "6d3c1e36-073c-4c02-a24d-6841f74ff52e",
   "metadata": {
    "tags": []
   },
   "outputs": [
    {
     "name": "stdout",
     "output_type": "stream",
     "text": [
      "2\n",
      "<class 'int'>\n"
     ]
    }
   ],
   "source": [
    "# `ndim` is an attribute holding the number of array dimensions\n",
    "print(var.ndim)\n",
    "print(type(var.ndim))"
   ]
  },
  {
   "cell_type": "code",
   "execution_count": 23,
   "id": "4d8c5446-2da2-4bee-8e3b-77c6f703c0a8",
   "metadata": {
    "tags": []
   },
   "outputs": [
    {
     "data": {
      "text/plain": [
       "[[1, 2, 3], [4, 5, 6], [7, 8, 9]]"
      ]
     },
     "execution_count": 23,
     "metadata": {},
     "output_type": "execute_result"
    }
   ],
   "source": [
    "# The `.tolist()` method returns the array as a nested list of scalars:\n",
    "var.tolist()"
   ]
  },
  {
   "cell_type": "code",
   "execution_count": 24,
   "id": "7900620b-c46e-4f53-8734-a47f6a21fb22",
   "metadata": {
    "tags": []
   },
   "outputs": [
    {
     "data": {
      "text/plain": [
       "array([1, 2, 3])"
      ]
     },
     "execution_count": 24,
     "metadata": {},
     "output_type": "execute_result"
    }
   ],
   "source": [
    "# in `min` method returns the minimum value in the array along a specified axis:\n",
    "var.min(axis = 0)"
   ]
  },
  {
   "cell_type": "code",
   "execution_count": 27,
   "id": "abc5998e-948c-4cc7-8c84-1491f7aaa00d",
   "metadata": {
    "tags": []
   },
   "outputs": [
    {
     "data": {
      "text/plain": [
       "builtin_function_or_method"
      ]
     },
     "execution_count": 27,
     "metadata": {},
     "output_type": "execute_result"
    }
   ],
   "source": [
    "type(var.tolist)"
   ]
  },
  {
   "cell_type": "code",
   "execution_count": 28,
   "id": "80a62a7a-31f4-42ab-ba13-984ee1607722",
   "metadata": {
    "tags": []
   },
   "outputs": [
    {
     "data": {
      "text/plain": [
       "builtin_function_or_method"
      ]
     },
     "execution_count": 28,
     "metadata": {},
     "output_type": "execute_result"
    }
   ],
   "source": [
    "type(var.min)"
   ]
  },
  {
   "cell_type": "code",
   "execution_count": null,
   "id": "3b1a0c28-6bbc-465d-a8ea-919c0ae205e5",
   "metadata": {},
   "outputs": [],
   "source": []
  }
 ],
 "metadata": {
  "kernelspec": {
   "display_name": "Anaconda 3 (Base)",
   "language": "python",
   "name": "base"
  },
  "language_info": {
   "codemirror_mode": {
    "name": "ipython",
    "version": 3
   },
   "file_extension": ".py",
   "mimetype": "text/x-python",
   "name": "python",
   "nbconvert_exporter": "python",
   "pygments_lexer": "ipython3",
   "version": "3.9.13"
  }
 },
 "nbformat": 4,
 "nbformat_minor": 5
}
