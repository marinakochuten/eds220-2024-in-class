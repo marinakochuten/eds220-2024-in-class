{
 "cells": [
  {
   "cell_type": "markdown",
   "id": "3901ca30-6ea8-4644-8d5b-1d2b4b8c54f1",
   "metadata": {},
   "source": [
    "# Grouping\n",
    "\n",
    "- Understand and apply the Split-Apply-Combine strategy to analyze grouped data.\n",
    "- Use `groupby()` to split a pandas.DataFrame by one or more columns.\n",
    "- Calculate summary statistics for groups in a `pandas.DataFrame`."
   ]
  },
  {
   "cell_type": "code",
   "execution_count": 1,
   "id": "b6aa37c7-002a-4207-92f6-767bbd8f0d7e",
   "metadata": {
    "tags": []
   },
   "outputs": [
    {
     "data": {
      "text/html": [
       "<div>\n",
       "<style scoped>\n",
       "    .dataframe tbody tr th:only-of-type {\n",
       "        vertical-align: middle;\n",
       "    }\n",
       "\n",
       "    .dataframe tbody tr th {\n",
       "        vertical-align: top;\n",
       "    }\n",
       "\n",
       "    .dataframe thead th {\n",
       "        text-align: right;\n",
       "    }\n",
       "</style>\n",
       "<table border=\"1\" class=\"dataframe\">\n",
       "  <thead>\n",
       "    <tr style=\"text-align: right;\">\n",
       "      <th></th>\n",
       "      <th>species</th>\n",
       "      <th>island</th>\n",
       "      <th>bill_length_mm</th>\n",
       "      <th>bill_depth_mm</th>\n",
       "      <th>flipper_length_mm</th>\n",
       "      <th>body_mass_g</th>\n",
       "      <th>sex</th>\n",
       "      <th>year</th>\n",
       "    </tr>\n",
       "  </thead>\n",
       "  <tbody>\n",
       "    <tr>\n",
       "      <th>0</th>\n",
       "      <td>Adelie</td>\n",
       "      <td>Torgersen</td>\n",
       "      <td>39.1</td>\n",
       "      <td>18.7</td>\n",
       "      <td>181.0</td>\n",
       "      <td>3750.0</td>\n",
       "      <td>male</td>\n",
       "      <td>2007</td>\n",
       "    </tr>\n",
       "    <tr>\n",
       "      <th>1</th>\n",
       "      <td>Adelie</td>\n",
       "      <td>Torgersen</td>\n",
       "      <td>39.5</td>\n",
       "      <td>17.4</td>\n",
       "      <td>186.0</td>\n",
       "      <td>3800.0</td>\n",
       "      <td>female</td>\n",
       "      <td>2007</td>\n",
       "    </tr>\n",
       "    <tr>\n",
       "      <th>2</th>\n",
       "      <td>Adelie</td>\n",
       "      <td>Torgersen</td>\n",
       "      <td>40.3</td>\n",
       "      <td>18.0</td>\n",
       "      <td>195.0</td>\n",
       "      <td>3250.0</td>\n",
       "      <td>female</td>\n",
       "      <td>2007</td>\n",
       "    </tr>\n",
       "    <tr>\n",
       "      <th>3</th>\n",
       "      <td>Adelie</td>\n",
       "      <td>Torgersen</td>\n",
       "      <td>NaN</td>\n",
       "      <td>NaN</td>\n",
       "      <td>NaN</td>\n",
       "      <td>NaN</td>\n",
       "      <td>NaN</td>\n",
       "      <td>2007</td>\n",
       "    </tr>\n",
       "    <tr>\n",
       "      <th>4</th>\n",
       "      <td>Adelie</td>\n",
       "      <td>Torgersen</td>\n",
       "      <td>36.7</td>\n",
       "      <td>19.3</td>\n",
       "      <td>193.0</td>\n",
       "      <td>3450.0</td>\n",
       "      <td>female</td>\n",
       "      <td>2007</td>\n",
       "    </tr>\n",
       "  </tbody>\n",
       "</table>\n",
       "</div>"
      ],
      "text/plain": [
       "  species     island  bill_length_mm  bill_depth_mm  flipper_length_mm  \\\n",
       "0  Adelie  Torgersen            39.1           18.7              181.0   \n",
       "1  Adelie  Torgersen            39.5           17.4              186.0   \n",
       "2  Adelie  Torgersen            40.3           18.0              195.0   \n",
       "3  Adelie  Torgersen             NaN            NaN                NaN   \n",
       "4  Adelie  Torgersen            36.7           19.3              193.0   \n",
       "\n",
       "   body_mass_g     sex  year  \n",
       "0       3750.0    male  2007  \n",
       "1       3800.0  female  2007  \n",
       "2       3250.0  female  2007  \n",
       "3          NaN     NaN  2007  \n",
       "4       3450.0  female  2007  "
      ]
     },
     "execution_count": 1,
     "metadata": {},
     "output_type": "execute_result"
    }
   ],
   "source": [
    "# Set up notebook\n",
    "import numpy as np\n",
    "import pandas as pd\n",
    "\n",
    "# Load Palmer penguins data\n",
    "URL = 'https://raw.githubusercontent.com/allisonhorst/palmerpenguins/main/inst/extdata/penguins.csv'\n",
    "penguins = pd.read_csv(URL)\n",
    "\n",
    "penguins.head()"
   ]
  },
  {
   "cell_type": "markdown",
   "id": "4afbfba5-ef0d-48e8-a235-6ac5c3a91a08",
   "metadata": {},
   "source": [
    "## Summary stats\n",
    "It is easy to get summary statistics for each column in a pandas.DataFrame by using methods such as\n",
    "\n",
    "- `sum()`: sum values in each column,\n",
    "- `count()`: count non-NA values in each column,\n",
    "- `min()` and `max()`: get the minimum and maximum value in each column,\n",
    "- `mean()` and `median()`: get the mean and median value in each column,\n",
    "- `std()` and `var()`: get the standard deviation and variance in each column."
   ]
  },
  {
   "cell_type": "code",
   "execution_count": 2,
   "id": "811ab087-0d94-4232-ad09-dcb226dcff57",
   "metadata": {
    "tags": []
   },
   "outputs": [
    {
     "data": {
      "text/plain": [
       "species              344\n",
       "island               344\n",
       "bill_length_mm       342\n",
       "bill_depth_mm        342\n",
       "flipper_length_mm    342\n",
       "body_mass_g          342\n",
       "sex                  333\n",
       "year                 344\n",
       "dtype: int64"
      ]
     },
     "execution_count": 2,
     "metadata": {},
     "output_type": "execute_result"
    }
   ],
   "source": [
    "# Get the number of non-NA values in each column \n",
    "penguins.count()"
   ]
  },
  {
   "cell_type": "code",
   "execution_count": 3,
   "id": "ceee6596-1c49-450c-8957-3c9cc5151006",
   "metadata": {
    "tags": []
   },
   "outputs": [
    {
     "data": {
      "text/plain": [
       "bill_length_mm         32.1\n",
       "bill_depth_mm          13.1\n",
       "flipper_length_mm     172.0\n",
       "body_mass_g          2700.0\n",
       "year                 2007.0\n",
       "dtype: float64"
      ]
     },
     "execution_count": 3,
     "metadata": {},
     "output_type": "execute_result"
    }
   ],
   "source": [
    "# Get minimum value in each column with numerical values\n",
    "penguins.select_dtypes('number').min()"
   ]
  },
  {
   "cell_type": "markdown",
   "id": "ded93391-eee8-43e5-928b-9e974a2f0b75",
   "metadata": {},
   "source": [
    "## Grouping\n",
    "\n",
    "The general syntax for `groupby()` is\n",
    "\n",
    "```python\n",
    "df.groupby(columns_to_group_by).summary_method()\n",
    "```\n",
    "\n",
    "#### Example"
   ]
  },
  {
   "cell_type": "code",
   "execution_count": 4,
   "id": "8eeafb06-388d-43a6-bc9e-26f1de5935af",
   "metadata": {
    "tags": []
   },
   "outputs": [
    {
     "data": {
      "text/plain": [
       "200.91520467836258"
      ]
     },
     "execution_count": 4,
     "metadata": {},
     "output_type": "execute_result"
    }
   ],
   "source": [
    "# Average of all values in the column:\n",
    "penguins['flipper_length_mm'].mean()"
   ]
  },
  {
   "cell_type": "code",
   "execution_count": 5,
   "id": "ccdbb63a-dcf4-4bbc-a49f-8d536708cc87",
   "metadata": {
    "tags": []
   },
   "outputs": [
    {
     "data": {
      "text/plain": [
       "species\n",
       "Adelie       189.953642\n",
       "Chinstrap    195.823529\n",
       "Gentoo       217.186992\n",
       "Name: flipper_length_mm, dtype: float64"
      ]
     },
     "execution_count": 5,
     "metadata": {},
     "output_type": "execute_result"
    }
   ],
   "source": [
    "# Average by species\n",
    "penguins.groupby('species')['flipper_length_mm'].mean()"
   ]
  },
  {
   "cell_type": "markdown",
   "id": "8f2f7f6d-2522-4ae7-be37-9ab1e746a7ac",
   "metadata": {},
   "source": [
    "Notice that the name of the series is the same as the column on which we calculated the summary statistc. We can easily update this using the `rename()` method:"
   ]
  },
  {
   "cell_type": "code",
   "execution_count": 6,
   "id": "c33be76e-72b6-4779-b784-fad3e039c6f0",
   "metadata": {
    "tags": []
   },
   "outputs": [
    {
     "data": {
      "text/plain": [
       "species\n",
       "Gentoo       217.186992\n",
       "Chinstrap    195.823529\n",
       "Adelie       189.953642\n",
       "Name: mean_flipper_length, dtype: float64"
      ]
     },
     "execution_count": 6,
     "metadata": {},
     "output_type": "execute_result"
    }
   ],
   "source": [
    "# Average flipper length per species\n",
    "avg_flipper = (penguins.groupby(\"species\")\n",
    "                        .flipper_length_mm\n",
    "                        .mean()\n",
    "                        .rename('mean_flipper_length')\n",
    "                        .sort_values(ascending=False)\n",
    "                        )\n",
    "avg_flipper"
   ]
  },
  {
   "cell_type": "markdown",
   "id": "a8405851-4dc0-47c7-834e-1cd8a2551334",
   "metadata": {},
   "source": [
    "We can also group by combinations of columns:"
   ]
  },
  {
   "cell_type": "code",
   "execution_count": 7,
   "id": "9f6a07dc-53ba-4839-9984-059acc33ef87",
   "metadata": {
    "tags": []
   },
   "outputs": [
    {
     "data": {
      "text/html": [
       "<div>\n",
       "<style scoped>\n",
       "    .dataframe tbody tr th:only-of-type {\n",
       "        vertical-align: middle;\n",
       "    }\n",
       "\n",
       "    .dataframe tbody tr th {\n",
       "        vertical-align: top;\n",
       "    }\n",
       "\n",
       "    .dataframe thead th {\n",
       "        text-align: right;\n",
       "    }\n",
       "</style>\n",
       "<table border=\"1\" class=\"dataframe\">\n",
       "  <thead>\n",
       "    <tr style=\"text-align: right;\">\n",
       "      <th></th>\n",
       "      <th></th>\n",
       "      <th>species</th>\n",
       "      <th>bill_length_mm</th>\n",
       "      <th>bill_depth_mm</th>\n",
       "      <th>flipper_length_mm</th>\n",
       "      <th>body_mass_g</th>\n",
       "      <th>sex</th>\n",
       "    </tr>\n",
       "    <tr>\n",
       "      <th>island</th>\n",
       "      <th>year</th>\n",
       "      <th></th>\n",
       "      <th></th>\n",
       "      <th></th>\n",
       "      <th></th>\n",
       "      <th></th>\n",
       "      <th></th>\n",
       "    </tr>\n",
       "  </thead>\n",
       "  <tbody>\n",
       "    <tr>\n",
       "      <th rowspan=\"3\" valign=\"top\">Biscoe</th>\n",
       "      <th>2007</th>\n",
       "      <td>44</td>\n",
       "      <td>44</td>\n",
       "      <td>44</td>\n",
       "      <td>44</td>\n",
       "      <td>44</td>\n",
       "      <td>43</td>\n",
       "    </tr>\n",
       "    <tr>\n",
       "      <th>2008</th>\n",
       "      <td>64</td>\n",
       "      <td>64</td>\n",
       "      <td>64</td>\n",
       "      <td>64</td>\n",
       "      <td>64</td>\n",
       "      <td>63</td>\n",
       "    </tr>\n",
       "    <tr>\n",
       "      <th>2009</th>\n",
       "      <td>60</td>\n",
       "      <td>59</td>\n",
       "      <td>59</td>\n",
       "      <td>59</td>\n",
       "      <td>59</td>\n",
       "      <td>57</td>\n",
       "    </tr>\n",
       "    <tr>\n",
       "      <th rowspan=\"3\" valign=\"top\">Dream</th>\n",
       "      <th>2007</th>\n",
       "      <td>46</td>\n",
       "      <td>46</td>\n",
       "      <td>46</td>\n",
       "      <td>46</td>\n",
       "      <td>46</td>\n",
       "      <td>45</td>\n",
       "    </tr>\n",
       "    <tr>\n",
       "      <th>2008</th>\n",
       "      <td>34</td>\n",
       "      <td>34</td>\n",
       "      <td>34</td>\n",
       "      <td>34</td>\n",
       "      <td>34</td>\n",
       "      <td>34</td>\n",
       "    </tr>\n",
       "    <tr>\n",
       "      <th>2009</th>\n",
       "      <td>44</td>\n",
       "      <td>44</td>\n",
       "      <td>44</td>\n",
       "      <td>44</td>\n",
       "      <td>44</td>\n",
       "      <td>44</td>\n",
       "    </tr>\n",
       "    <tr>\n",
       "      <th rowspan=\"3\" valign=\"top\">Torgersen</th>\n",
       "      <th>2007</th>\n",
       "      <td>20</td>\n",
       "      <td>19</td>\n",
       "      <td>19</td>\n",
       "      <td>19</td>\n",
       "      <td>19</td>\n",
       "      <td>15</td>\n",
       "    </tr>\n",
       "    <tr>\n",
       "      <th>2008</th>\n",
       "      <td>16</td>\n",
       "      <td>16</td>\n",
       "      <td>16</td>\n",
       "      <td>16</td>\n",
       "      <td>16</td>\n",
       "      <td>16</td>\n",
       "    </tr>\n",
       "    <tr>\n",
       "      <th>2009</th>\n",
       "      <td>16</td>\n",
       "      <td>16</td>\n",
       "      <td>16</td>\n",
       "      <td>16</td>\n",
       "      <td>16</td>\n",
       "      <td>16</td>\n",
       "    </tr>\n",
       "  </tbody>\n",
       "</table>\n",
       "</div>"
      ],
      "text/plain": [
       "                species  bill_length_mm  bill_depth_mm  flipper_length_mm  \\\n",
       "island    year                                                              \n",
       "Biscoe    2007       44              44             44                 44   \n",
       "          2008       64              64             64                 64   \n",
       "          2009       60              59             59                 59   \n",
       "Dream     2007       46              46             46                 46   \n",
       "          2008       34              34             34                 34   \n",
       "          2009       44              44             44                 44   \n",
       "Torgersen 2007       20              19             19                 19   \n",
       "          2008       16              16             16                 16   \n",
       "          2009       16              16             16                 16   \n",
       "\n",
       "                body_mass_g  sex  \n",
       "island    year                    \n",
       "Biscoe    2007           44   43  \n",
       "          2008           64   63  \n",
       "          2009           59   57  \n",
       "Dream     2007           46   45  \n",
       "          2008           34   34  \n",
       "          2009           44   44  \n",
       "Torgersen 2007           19   15  \n",
       "          2008           16   16  \n",
       "          2009           16   16  "
      ]
     },
     "execution_count": 7,
     "metadata": {},
     "output_type": "execute_result"
    }
   ],
   "source": [
    "# Find number of penguins surveyed on each island in different years\n",
    "penguins.groupby(['island','year']).count()"
   ]
  },
  {
   "cell_type": "code",
   "execution_count": 8,
   "id": "143310ba-8afb-45d0-a986-8b37cd215a52",
   "metadata": {
    "tags": []
   },
   "outputs": [
    {
     "data": {
      "text/plain": [
       "<AxesSubplot:title={'center':'Penguins surveyed at the Palmer Archipelago'}, ylabel='island,year'>"
      ]
     },
     "execution_count": 8,
     "metadata": {},
     "output_type": "execute_result"
    },
    {
     "data": {
      "image/png": "[encoded data removed]",
      "text/plain": [
       "<Figure size 640x480 with 1 Axes>"
      ]
     },
     "metadata": {},
     "output_type": "display_data"
    }
   ],
   "source": [
    "# Plot the surveyed population per year and island\n",
    "(penguins.groupby(['island','year'])\n",
    "         .count()\n",
    "         .species\n",
    "         .sort_values()\n",
    "         .plot(kind='barh',\n",
    "                title='Penguins surveyed at the Palmer Archipelago',\n",
    "                ylabel=('Island, Year'))\n",
    "         )"
   ]
  },
  {
   "cell_type": "markdown",
   "id": "554aa2ed-9791-4e23-ac4e-bb2a9b53b0f5",
   "metadata": {},
   "source": [
    "## Check-in\n",
    "\n",
    "1. Use the `max()` method for `pands.DataFrames` to calculate the maximum value of a penguin’s body mass by year and species.\n",
    "2. Use (1) to display the highest body masses per year and species as a bar plot in descending order."
   ]
  },
  {
   "cell_type": "code",
   "execution_count": 16,
   "id": "7cc69784-7ff1-4f84-b3f4-2696382f3ffb",
   "metadata": {
    "tags": []
   },
   "outputs": [
    {
     "data": {
      "text/plain": [
       "species    year\n",
       "Adelie     2007    4675.0\n",
       "           2008    4700.0\n",
       "           2009    4775.0\n",
       "Chinstrap  2007    4400.0\n",
       "           2008    4800.0\n",
       "           2009    4450.0\n",
       "Gentoo     2007    6300.0\n",
       "           2008    6000.0\n",
       "           2009    6000.0\n",
       "Name: mean_body_mass, dtype: float64"
      ]
     },
     "execution_count": 16,
     "metadata": {},
     "output_type": "execute_result"
    }
   ],
   "source": [
    "# 1. Find max value of a penguin's body mass by year and species\n",
    "mean_mass = (penguins.groupby(['species','year'])\n",
    "         .body_mass_g\n",
    "         .max()\n",
    "         .rename('mean_body_mass')\n",
    ")\n",
    "mean_mass"
   ]
  },
  {
   "cell_type": "code",
   "execution_count": 25,
   "id": "aec65b70-7d47-4741-a5b1-e7d1761a8797",
   "metadata": {
    "tags": []
   },
   "outputs": [
    {
     "data": {
      "text/plain": [
       "<AxesSubplot:title={'center':'Palmer penguins highest body masses per year and species'}, ylabel='Species, Year'>"
      ]
     },
     "execution_count": 25,
     "metadata": {},
     "output_type": "execute_result"
    },
    {
     "data": {
      "image/png": "[encoded data removed]",
      "text/plain": [
       "<Figure size 640x480 with 1 Axes>"
      ]
     },
     "metadata": {},
     "output_type": "display_data"
    }
   ],
   "source": [
    "(mean_mass.sort_values()\n",
    "          .plot(kind='barh',\n",
    "               title = 'Palmer penguins highest body masses per year and species',\n",
    "               xlabel=('Species, Year'))\n",
    "               )"
   ]
  },
  {
   "cell_type": "code",
   "execution_count": null,
   "id": "81cb88bf-d571-40f5-9416-76996bc0d519",
   "metadata": {},
   "outputs": [],
   "source": []
  }
 ],
 "metadata": {
  "kernelspec": {
   "display_name": "Anaconda 3 (Base)",
   "language": "python",
   "name": "base"
  },
  "language_info": {
   "codemirror_mode": {
    "name": "ipython",
    "version": 3
   },
   "file_extension": ".py",
   "mimetype": "text/x-python",
   "name": "python",
   "nbconvert_exporter": "python",
   "pygments_lexer": "ipython3",
   "version": "3.9.13"
  }
 },
 "nbformat": 4,
 "nbformat_minor": 5
}
