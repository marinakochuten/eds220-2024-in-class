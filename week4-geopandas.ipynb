{
 "cells": [
  {
   "cell_type": "markdown",
   "id": "ccc74f7d-199d-4817-adf2-6cf9a4218668",
   "metadata": {},
   "source": [
    "# `geopandas`\n",
    "\n",
    "GeoPandas is a Python library that extends the `pandas` library by adding support for geospatial data.\n",
    "\n",
    "[Full class notes](https://meds-eds-220.github.io/MEDS-eds-220-course/book/chapters/lesson-10-geopandas-intro/lesson-10-geopandas-intro.html)\n",
    "\n",
    "## Reproducible file paths\n",
    "\n",
    "Let’s start by importing these packages:"
   ]
  },
  {
   "cell_type": "code",
   "execution_count": 1,
   "id": "0039b749-d900-468c-aa52-e069701cfd3c",
   "metadata": {
    "tags": []
   },
   "outputs": [],
   "source": [
    "import os\n",
    "import geopandas as gpd\n",
    "import matplotlib.pyplot as plt"
   ]
  },
  {
   "cell_type": "markdown",
   "id": "818e135b-fe74-42a9-9594-efa0d7c01825",
   "metadata": {},
   "source": [
    "- `geopandas`: a package that extends `pandas` to work with geospatial data. This is the main package we will be working with in the next few lessons.\n",
    "- `os`: a package that provides functions for interacting with the operating system, allowing us to perform tasks like file manipulation in a platform-independent way.\n",
    "- `matplotlib`: one of the most popular and widely used Python libraries for data visualization."
   ]
  },
  {
   "cell_type": "code",
   "execution_count": 2,
   "id": "bcec3495-58be-4d61-a900-c02a763bd08f",
   "metadata": {
    "tags": []
   },
   "outputs": [
    {
     "data": {
      "text/plain": [
       "'data/gbif_sus_scrofa_california/gbif_sus_scrofa_california.shp'"
      ]
     },
     "execution_count": 2,
     "metadata": {},
     "output_type": "execute_result"
    }
   ],
   "source": [
    "# Use os to make a reproducable file path\n",
    "fp = os.path.join('data','gbif_sus_scrofa_california','gbif_sus_scrofa_california.shp')\n",
    "fp"
   ]
  },
  {
   "cell_type": "markdown",
   "id": "a68ff4d7-0b60-47d1-979c-170480c70bec",
   "metadata": {},
   "source": [
    "We can then use this file path to read in a shapefile with `geopandas` by using the `geopandas.read_file()` function:"
   ]
  },
  {
   "cell_type": "code",
   "execution_count": 3,
   "id": "e4213abf-42d8-4fac-a810-29257d7109a4",
   "metadata": {
    "tags": []
   },
   "outputs": [
    {
     "name": "stderr",
     "output_type": "stream",
     "text": [
      "ERROR 1: PROJ: proj_create_from_database: Open of /opt/anaconda3/share/proj failed\n"
     ]
    },
    {
     "data": {
      "text/html": [
       "<div>\n",
       "<style scoped>\n",
       "    .dataframe tbody tr th:only-of-type {\n",
       "        vertical-align: middle;\n",
       "    }\n",
       "\n",
       "    .dataframe tbody tr th {\n",
       "        vertical-align: top;\n",
       "    }\n",
       "\n",
       "    .dataframe thead th {\n",
       "        text-align: right;\n",
       "    }\n",
       "</style>\n",
       "<table border=\"1\" class=\"dataframe\">\n",
       "  <thead>\n",
       "    <tr style=\"text-align: right;\">\n",
       "      <th></th>\n",
       "      <th>gbifID</th>\n",
       "      <th>species</th>\n",
       "      <th>state</th>\n",
       "      <th>individual</th>\n",
       "      <th>day</th>\n",
       "      <th>month</th>\n",
       "      <th>year</th>\n",
       "      <th>inst</th>\n",
       "      <th>collection</th>\n",
       "      <th>catalogNum</th>\n",
       "      <th>identified</th>\n",
       "      <th>geometry</th>\n",
       "    </tr>\n",
       "  </thead>\n",
       "  <tbody>\n",
       "    <tr>\n",
       "      <th>0</th>\n",
       "      <td>899953814</td>\n",
       "      <td>Sus scrofa</td>\n",
       "      <td>California</td>\n",
       "      <td>NaN</td>\n",
       "      <td>22.0</td>\n",
       "      <td>3.0</td>\n",
       "      <td>2014.0</td>\n",
       "      <td>iNaturalist</td>\n",
       "      <td>Observations</td>\n",
       "      <td>581956</td>\n",
       "      <td>edwardrooks</td>\n",
       "      <td>POINT (-121.53812 37.08846)</td>\n",
       "    </tr>\n",
       "    <tr>\n",
       "      <th>1</th>\n",
       "      <td>899951348</td>\n",
       "      <td>Sus scrofa</td>\n",
       "      <td>California</td>\n",
       "      <td>NaN</td>\n",
       "      <td>9.0</td>\n",
       "      <td>6.0</td>\n",
       "      <td>2007.0</td>\n",
       "      <td>iNaturalist</td>\n",
       "      <td>Observations</td>\n",
       "      <td>576047</td>\n",
       "      <td>Bruce Freeman</td>\n",
       "      <td>POINT (-120.54942 35.47354)</td>\n",
       "    </tr>\n",
       "    <tr>\n",
       "      <th>2</th>\n",
       "      <td>896560733</td>\n",
       "      <td>Sus scrofa</td>\n",
       "      <td>California</td>\n",
       "      <td>NaN</td>\n",
       "      <td>20.0</td>\n",
       "      <td>12.0</td>\n",
       "      <td>1937.0</td>\n",
       "      <td>MVZ</td>\n",
       "      <td>Hild</td>\n",
       "      <td>MVZ:Hild:195</td>\n",
       "      <td>Museum of Vertebrate Zoology, University of Ca...</td>\n",
       "      <td>POINT (-122.27063 37.87610)</td>\n",
       "    </tr>\n",
       "    <tr>\n",
       "      <th>3</th>\n",
       "      <td>896559958</td>\n",
       "      <td>Sus scrofa</td>\n",
       "      <td>California</td>\n",
       "      <td>NaN</td>\n",
       "      <td>1.0</td>\n",
       "      <td>4.0</td>\n",
       "      <td>1969.0</td>\n",
       "      <td>MVZ</td>\n",
       "      <td>Hild</td>\n",
       "      <td>MVZ:Hild:1213</td>\n",
       "      <td>Museum of Vertebrate Zoology, University of Ca...</td>\n",
       "      <td>POINT (-121.82297 38.44543)</td>\n",
       "    </tr>\n",
       "    <tr>\n",
       "      <th>4</th>\n",
       "      <td>896559722</td>\n",
       "      <td>Sus scrofa</td>\n",
       "      <td>California</td>\n",
       "      <td>NaN</td>\n",
       "      <td>1.0</td>\n",
       "      <td>1.0</td>\n",
       "      <td>1961.0</td>\n",
       "      <td>MVZ</td>\n",
       "      <td>Hild</td>\n",
       "      <td>MVZ:Hild:1004</td>\n",
       "      <td>Museum of Vertebrate Zoology, University of Ca...</td>\n",
       "      <td>POINT (-121.74559 38.54882)</td>\n",
       "    </tr>\n",
       "    <tr>\n",
       "      <th>...</th>\n",
       "      <td>...</td>\n",
       "      <td>...</td>\n",
       "      <td>...</td>\n",
       "      <td>...</td>\n",
       "      <td>...</td>\n",
       "      <td>...</td>\n",
       "      <td>...</td>\n",
       "      <td>...</td>\n",
       "      <td>...</td>\n",
       "      <td>...</td>\n",
       "      <td>...</td>\n",
       "      <td>...</td>\n",
       "    </tr>\n",
       "    <tr>\n",
       "      <th>1041</th>\n",
       "      <td>1024216143</td>\n",
       "      <td>Sus scrofa</td>\n",
       "      <td>California</td>\n",
       "      <td>NaN</td>\n",
       "      <td>24.0</td>\n",
       "      <td>8.0</td>\n",
       "      <td>2014.0</td>\n",
       "      <td>iNaturalist</td>\n",
       "      <td>Observations</td>\n",
       "      <td>848609</td>\n",
       "      <td>sea-kangaroo</td>\n",
       "      <td>POINT (-121.71341 37.34271)</td>\n",
       "    </tr>\n",
       "    <tr>\n",
       "      <th>1042</th>\n",
       "      <td>1024215805</td>\n",
       "      <td>Sus scrofa</td>\n",
       "      <td>California</td>\n",
       "      <td>NaN</td>\n",
       "      <td>24.0</td>\n",
       "      <td>8.0</td>\n",
       "      <td>2014.0</td>\n",
       "      <td>iNaturalist</td>\n",
       "      <td>Observations</td>\n",
       "      <td>847708</td>\n",
       "      <td>Donna Pomeroy</td>\n",
       "      <td>POINT (-121.71871 37.34467)</td>\n",
       "    </tr>\n",
       "    <tr>\n",
       "      <th>1043</th>\n",
       "      <td>1024215159</td>\n",
       "      <td>Sus scrofa</td>\n",
       "      <td>California</td>\n",
       "      <td>NaN</td>\n",
       "      <td>23.0</td>\n",
       "      <td>8.0</td>\n",
       "      <td>2014.0</td>\n",
       "      <td>iNaturalist</td>\n",
       "      <td>Observations</td>\n",
       "      <td>845949</td>\n",
       "      <td>Alyssa Semerdjian</td>\n",
       "      <td>POINT (-120.18419 35.39745)</td>\n",
       "    </tr>\n",
       "    <tr>\n",
       "      <th>1044</th>\n",
       "      <td>1019052419</td>\n",
       "      <td>Sus scrofa</td>\n",
       "      <td>California</td>\n",
       "      <td>2.0</td>\n",
       "      <td>18.0</td>\n",
       "      <td>9.0</td>\n",
       "      <td>1998.0</td>\n",
       "      <td>Borror Laboratory of Bioacoustics, Ohio State ...</td>\n",
       "      <td>Recordings</td>\n",
       "      <td>BLB30714</td>\n",
       "      <td>None</td>\n",
       "      <td>POINT (-119.55190 34.04810)</td>\n",
       "    </tr>\n",
       "    <tr>\n",
       "      <th>1045</th>\n",
       "      <td>1019052401</td>\n",
       "      <td>Sus scrofa</td>\n",
       "      <td>California</td>\n",
       "      <td>2.0</td>\n",
       "      <td>18.0</td>\n",
       "      <td>9.0</td>\n",
       "      <td>1998.0</td>\n",
       "      <td>Borror Laboratory of Bioacoustics, Ohio State ...</td>\n",
       "      <td>Recordings</td>\n",
       "      <td>BLB30713</td>\n",
       "      <td>None</td>\n",
       "      <td>POINT (-119.55190 34.04810)</td>\n",
       "    </tr>\n",
       "  </tbody>\n",
       "</table>\n",
       "<p>1046 rows × 12 columns</p>\n",
       "</div>"
      ],
      "text/plain": [
       "          gbifID     species       state  individual   day  month    year  \\\n",
       "0      899953814  Sus scrofa  California         NaN  22.0    3.0  2014.0   \n",
       "1      899951348  Sus scrofa  California         NaN   9.0    6.0  2007.0   \n",
       "2      896560733  Sus scrofa  California         NaN  20.0   12.0  1937.0   \n",
       "3      896559958  Sus scrofa  California         NaN   1.0    4.0  1969.0   \n",
       "4      896559722  Sus scrofa  California         NaN   1.0    1.0  1961.0   \n",
       "...          ...         ...         ...         ...   ...    ...     ...   \n",
       "1041  1024216143  Sus scrofa  California         NaN  24.0    8.0  2014.0   \n",
       "1042  1024215805  Sus scrofa  California         NaN  24.0    8.0  2014.0   \n",
       "1043  1024215159  Sus scrofa  California         NaN  23.0    8.0  2014.0   \n",
       "1044  1019052419  Sus scrofa  California         2.0  18.0    9.0  1998.0   \n",
       "1045  1019052401  Sus scrofa  California         2.0  18.0    9.0  1998.0   \n",
       "\n",
       "                                                   inst    collection  \\\n",
       "0                                           iNaturalist  Observations   \n",
       "1                                           iNaturalist  Observations   \n",
       "2                                                   MVZ          Hild   \n",
       "3                                                   MVZ          Hild   \n",
       "4                                                   MVZ          Hild   \n",
       "...                                                 ...           ...   \n",
       "1041                                        iNaturalist  Observations   \n",
       "1042                                        iNaturalist  Observations   \n",
       "1043                                        iNaturalist  Observations   \n",
       "1044  Borror Laboratory of Bioacoustics, Ohio State ...    Recordings   \n",
       "1045  Borror Laboratory of Bioacoustics, Ohio State ...    Recordings   \n",
       "\n",
       "         catalogNum                                         identified  \\\n",
       "0            581956                                        edwardrooks   \n",
       "1            576047                                      Bruce Freeman   \n",
       "2      MVZ:Hild:195  Museum of Vertebrate Zoology, University of Ca...   \n",
       "3     MVZ:Hild:1213  Museum of Vertebrate Zoology, University of Ca...   \n",
       "4     MVZ:Hild:1004  Museum of Vertebrate Zoology, University of Ca...   \n",
       "...             ...                                                ...   \n",
       "1041         848609                                       sea-kangaroo   \n",
       "1042         847708                                      Donna Pomeroy   \n",
       "1043         845949                                  Alyssa Semerdjian   \n",
       "1044       BLB30714                                               None   \n",
       "1045       BLB30713                                               None   \n",
       "\n",
       "                         geometry  \n",
       "0     POINT (-121.53812 37.08846)  \n",
       "1     POINT (-120.54942 35.47354)  \n",
       "2     POINT (-122.27063 37.87610)  \n",
       "3     POINT (-121.82297 38.44543)  \n",
       "4     POINT (-121.74559 38.54882)  \n",
       "...                           ...  \n",
       "1041  POINT (-121.71341 37.34271)  \n",
       "1042  POINT (-121.71871 37.34467)  \n",
       "1043  POINT (-120.18419 35.39745)  \n",
       "1044  POINT (-119.55190 34.04810)  \n",
       "1045  POINT (-119.55190 34.04810)  \n",
       "\n",
       "[1046 rows x 12 columns]"
      ]
     },
     "execution_count": 3,
     "metadata": {},
     "output_type": "execute_result"
    }
   ],
   "source": [
    "pigs = gpd.read_file(fp)\n",
    "pigs"
   ]
  },
  {
   "cell_type": "markdown",
   "id": "62576413-0077-4fb4-9059-6b114db21e2c",
   "metadata": {},
   "source": [
    "## Check-in\n",
    "Create a file-path for the CA boundary and import as `ca_boundary`"
   ]
  },
  {
   "cell_type": "code",
   "execution_count": 5,
   "id": "2b32ddbb-c4aa-44a1-b56b-000673eccc14",
   "metadata": {
    "tags": []
   },
   "outputs": [
    {
     "data": {
      "text/html": [
       "<div>\n",
       "<style scoped>\n",
       "    .dataframe tbody tr th:only-of-type {\n",
       "        vertical-align: middle;\n",
       "    }\n",
       "\n",
       "    .dataframe tbody tr th {\n",
       "        vertical-align: top;\n",
       "    }\n",
       "\n",
       "    .dataframe thead th {\n",
       "        text-align: right;\n",
       "    }\n",
       "</style>\n",
       "<table border=\"1\" class=\"dataframe\">\n",
       "  <thead>\n",
       "    <tr style=\"text-align: right;\">\n",
       "      <th></th>\n",
       "      <th>REGION</th>\n",
       "      <th>DIVISION</th>\n",
       "      <th>STATEFP</th>\n",
       "      <th>STATENS</th>\n",
       "      <th>GEOID</th>\n",
       "      <th>STUSPS</th>\n",
       "      <th>NAME</th>\n",
       "      <th>LSAD</th>\n",
       "      <th>MTFCC</th>\n",
       "      <th>FUNCSTAT</th>\n",
       "      <th>ALAND</th>\n",
       "      <th>AWATER</th>\n",
       "      <th>INTPTLAT</th>\n",
       "      <th>INTPTLON</th>\n",
       "      <th>geometry</th>\n",
       "    </tr>\n",
       "  </thead>\n",
       "  <tbody>\n",
       "    <tr>\n",
       "      <th>0</th>\n",
       "      <td>4</td>\n",
       "      <td>9</td>\n",
       "      <td>06</td>\n",
       "      <td>01779778</td>\n",
       "      <td>06</td>\n",
       "      <td>CA</td>\n",
       "      <td>California</td>\n",
       "      <td>00</td>\n",
       "      <td>G4000</td>\n",
       "      <td>A</td>\n",
       "      <td>403501101370</td>\n",
       "      <td>20466718403</td>\n",
       "      <td>+37.1551773</td>\n",
       "      <td>-119.5434183</td>\n",
       "      <td>MULTIPOLYGON (((-119.63473 33.26545, -119.6363...</td>\n",
       "    </tr>\n",
       "  </tbody>\n",
       "</table>\n",
       "</div>"
      ],
      "text/plain": [
       "  REGION DIVISION STATEFP   STATENS GEOID STUSPS        NAME LSAD  MTFCC  \\\n",
       "0      4        9      06  01779778    06     CA  California   00  G4000   \n",
       "\n",
       "  FUNCSTAT         ALAND       AWATER     INTPTLAT      INTPTLON  \\\n",
       "0        A  403501101370  20466718403  +37.1551773  -119.5434183   \n",
       "\n",
       "                                            geometry  \n",
       "0  MULTIPOLYGON (((-119.63473 33.26545, -119.6363...  "
      ]
     },
     "execution_count": 5,
     "metadata": {},
     "output_type": "execute_result"
    }
   ],
   "source": [
    "# Use os to make a reproducable file path\n",
    "fp2 = os.path.join('data','ca_state_boundary','ca_state_boundary.shp')\n",
    "\n",
    "# Read in shapefile\n",
    "ca_boundary = gpd.read_file(fp2)\n",
    "ca_boundary"
   ]
  },
  {
   "cell_type": "markdown",
   "id": "80545550-1e80-4b60-ae0b-6f3d5ceb2d9c",
   "metadata": {},
   "source": [
    "## GeoSeries and GeoDataFrames\n",
    "\n",
    "`gpd.GeoDataFrame` = `pandas.DataFrame` + geometry column\n",
    "\n",
    "geometry columns = `gpd.GeoSeries` it holds the geometry (point, line, polygon) of each spatial feature. \n",
    "The other columns in the GeoDataFarme are our usual `pandas.Series`\n",
    "\n",
    "Example\n",
    "\n",
    "Notice the `geometry` column in the `pigs` GeoDataFrame"
   ]
  },
  {
   "cell_type": "code",
   "execution_count": 6,
   "id": "703fe189-bde3-4875-b187-78f4eaf2b833",
   "metadata": {
    "tags": []
   },
   "outputs": [
    {
     "data": {
      "text/html": [
       "<div>\n",
       "<style scoped>\n",
       "    .dataframe tbody tr th:only-of-type {\n",
       "        vertical-align: middle;\n",
       "    }\n",
       "\n",
       "    .dataframe tbody tr th {\n",
       "        vertical-align: top;\n",
       "    }\n",
       "\n",
       "    .dataframe thead th {\n",
       "        text-align: right;\n",
       "    }\n",
       "</style>\n",
       "<table border=\"1\" class=\"dataframe\">\n",
       "  <thead>\n",
       "    <tr style=\"text-align: right;\">\n",
       "      <th></th>\n",
       "      <th>gbifID</th>\n",
       "      <th>species</th>\n",
       "      <th>state</th>\n",
       "      <th>individual</th>\n",
       "      <th>day</th>\n",
       "      <th>month</th>\n",
       "      <th>year</th>\n",
       "      <th>inst</th>\n",
       "      <th>collection</th>\n",
       "      <th>catalogNum</th>\n",
       "      <th>identified</th>\n",
       "      <th>geometry</th>\n",
       "    </tr>\n",
       "  </thead>\n",
       "  <tbody>\n",
       "    <tr>\n",
       "      <th>0</th>\n",
       "      <td>899953814</td>\n",
       "      <td>Sus scrofa</td>\n",
       "      <td>California</td>\n",
       "      <td>NaN</td>\n",
       "      <td>22.0</td>\n",
       "      <td>3.0</td>\n",
       "      <td>2014.0</td>\n",
       "      <td>iNaturalist</td>\n",
       "      <td>Observations</td>\n",
       "      <td>581956</td>\n",
       "      <td>edwardrooks</td>\n",
       "      <td>POINT (-121.53812 37.08846)</td>\n",
       "    </tr>\n",
       "    <tr>\n",
       "      <th>1</th>\n",
       "      <td>899951348</td>\n",
       "      <td>Sus scrofa</td>\n",
       "      <td>California</td>\n",
       "      <td>NaN</td>\n",
       "      <td>9.0</td>\n",
       "      <td>6.0</td>\n",
       "      <td>2007.0</td>\n",
       "      <td>iNaturalist</td>\n",
       "      <td>Observations</td>\n",
       "      <td>576047</td>\n",
       "      <td>Bruce Freeman</td>\n",
       "      <td>POINT (-120.54942 35.47354)</td>\n",
       "    </tr>\n",
       "    <tr>\n",
       "      <th>2</th>\n",
       "      <td>896560733</td>\n",
       "      <td>Sus scrofa</td>\n",
       "      <td>California</td>\n",
       "      <td>NaN</td>\n",
       "      <td>20.0</td>\n",
       "      <td>12.0</td>\n",
       "      <td>1937.0</td>\n",
       "      <td>MVZ</td>\n",
       "      <td>Hild</td>\n",
       "      <td>MVZ:Hild:195</td>\n",
       "      <td>Museum of Vertebrate Zoology, University of Ca...</td>\n",
       "      <td>POINT (-122.27063 37.87610)</td>\n",
       "    </tr>\n",
       "  </tbody>\n",
       "</table>\n",
       "</div>"
      ],
      "text/plain": [
       "      gbifID     species       state  individual   day  month    year  \\\n",
       "0  899953814  Sus scrofa  California         NaN  22.0    3.0  2014.0   \n",
       "1  899951348  Sus scrofa  California         NaN   9.0    6.0  2007.0   \n",
       "2  896560733  Sus scrofa  California         NaN  20.0   12.0  1937.0   \n",
       "\n",
       "          inst    collection    catalogNum  \\\n",
       "0  iNaturalist  Observations        581956   \n",
       "1  iNaturalist  Observations        576047   \n",
       "2          MVZ          Hild  MVZ:Hild:195   \n",
       "\n",
       "                                          identified  \\\n",
       "0                                        edwardrooks   \n",
       "1                                      Bruce Freeman   \n",
       "2  Museum of Vertebrate Zoology, University of Ca...   \n",
       "\n",
       "                      geometry  \n",
       "0  POINT (-121.53812 37.08846)  \n",
       "1  POINT (-120.54942 35.47354)  \n",
       "2  POINT (-122.27063 37.87610)  "
      ]
     },
     "execution_count": 6,
     "metadata": {},
     "output_type": "execute_result"
    }
   ],
   "source": [
    "pigs.head(3)"
   ]
  },
  {
   "cell_type": "code",
   "execution_count": 7,
   "id": "2fe63d17-03bd-48e4-abe7-d83c7723a4e9",
   "metadata": {
    "tags": []
   },
   "outputs": [
    {
     "name": "stdout",
     "output_type": "stream",
     "text": [
      "<class 'geopandas.geodataframe.GeoDataFrame'>\n",
      "<class 'geopandas.geoseries.GeoSeries'>\n",
      "<class 'pandas.core.series.Series'>\n"
     ]
    }
   ],
   "source": [
    "# Check what kind of object is pigs\n",
    "print(type(pigs))\n",
    "\n",
    "# Check what kind of object is the geometry column\n",
    "print(type(pigs.geometry))\n",
    "\n",
    "# Check what kind of object is the species column\n",
    "print(type(pigs.species))"
   ]
  },
  {
   "cell_type": "markdown",
   "id": "deb7221f-7f67-466e-bf65-b5131b14de59",
   "metadata": {},
   "source": [
    "The data type of the geometry column is also reflected when we look at the data types of the values in each column:"
   ]
  },
  {
   "cell_type": "code",
   "execution_count": 8,
   "id": "3222cb9d-f7de-4946-819e-c40c8cdeeedf",
   "metadata": {
    "tags": []
   },
   "outputs": [
    {
     "data": {
      "text/plain": [
       "gbifID           int64\n",
       "species         object\n",
       "state           object\n",
       "individual     float64\n",
       "day            float64\n",
       "month          float64\n",
       "year           float64\n",
       "inst            object\n",
       "collection      object\n",
       "catalogNum      object\n",
       "identified      object\n",
       "geometry      geometry\n",
       "dtype: object"
      ]
     },
     "execution_count": 8,
     "metadata": {},
     "output_type": "execute_result"
    }
   ],
   "source": [
    "pigs.dtypes"
   ]
  },
  {
   "cell_type": "code",
   "execution_count": 9,
   "id": "efd08456-94a5-4ffd-bee4-446a9f8848b2",
   "metadata": {
    "tags": []
   },
   "outputs": [
    {
     "data": {
      "text/plain": [
       "0       Point\n",
       "1       Point\n",
       "2       Point\n",
       "3       Point\n",
       "4       Point\n",
       "        ...  \n",
       "1041    Point\n",
       "1042    Point\n",
       "1043    Point\n",
       "1044    Point\n",
       "1045    Point\n",
       "Length: 1046, dtype: object"
      ]
     },
     "execution_count": 9,
     "metadata": {},
     "output_type": "execute_result"
    }
   ],
   "source": [
    "# Check the geometry type of each element in the geometry column\n",
    "pigs.geom_type"
   ]
  },
  {
   "cell_type": "markdown",
   "id": "30a26fd4-1613-4eb5-ad31-f84625f8310a",
   "metadata": {},
   "source": [
    "## Check-in\n",
    "What is the geometry type of the single feature in the CA state boundary? And why does it make sense to have this kind of geometry?"
   ]
  },
  {
   "cell_type": "code",
   "execution_count": 10,
   "id": "79b206ea-5b99-480e-8a2c-c4e59026e1b6",
   "metadata": {
    "tags": []
   },
   "outputs": [
    {
     "data": {
      "text/plain": [
       "0    MultiPolygon\n",
       "dtype: object"
      ]
     },
     "execution_count": 10,
     "metadata": {},
     "output_type": "execute_result"
    }
   ],
   "source": [
    "ca_boundary.geom_type"
   ]
  },
  {
   "cell_type": "markdown",
   "id": "2f1075e8-90e9-423d-8476-47bbc90f2ea0",
   "metadata": {},
   "source": [
    "## CRS and extent\n",
    "\n",
    "CRS = coordinate reference system and it is one of the basic information pieces for geospatial data\n",
    "\n",
    "We can think of the coordinate reference system (CRS) as the instructions to locate each spatial feature of our data frame on the surface of the Earth. We access the CRS of a `geopandas.GeoDataFrame` using the `crs` attribute:"
   ]
  },
  {
   "cell_type": "code",
   "execution_count": 11,
   "id": "23036096-6d94-4664-8609-dfc398528b21",
   "metadata": {
    "tags": []
   },
   "outputs": [
    {
     "data": {
      "text/plain": [
       "<Geographic 2D CRS: EPSG:4326>\n",
       "Name: WGS 84\n",
       "Axis Info [ellipsoidal]:\n",
       "- Lat[north]: Geodetic latitude (degree)\n",
       "- Lon[east]: Geodetic longitude (degree)\n",
       "Area of Use:\n",
       "- name: World.\n",
       "- bounds: (-180.0, -90.0, 180.0, 90.0)\n",
       "Datum: World Geodetic System 1984 ensemble\n",
       "- Ellipsoid: WGS 84\n",
       "- Prime Meridian: Greenwich"
      ]
     },
     "execution_count": 11,
     "metadata": {},
     "output_type": "execute_result"
    }
   ],
   "source": [
    "# Access the CRS of the GeoDataFrame\n",
    "pigs.crs"
   ]
  },
  {
   "cell_type": "code",
   "execution_count": 12,
   "id": "7e3fd765-297e-49cd-97fe-e5004dcfa1b6",
   "metadata": {
    "tags": []
   },
   "outputs": [
    {
     "name": "stdout",
     "output_type": "stream",
     "text": [
      "ellipsoid:  WGS 84\n",
      "datum:  World Geodetic System 1984 ensemble\n",
      "is geographic?  True\n",
      "is projected?  False\n"
     ]
    }
   ],
   "source": [
    "# Get more information about the CRS\n",
    "print('ellipsoid: ', pigs.crs.ellipsoid)\n",
    "print('datum: ', pigs.crs.datum)\n",
    "print('is geographic? ', pigs.crs.is_geographic)\n",
    "print('is projected? ', pigs.crs.is_projected)"
   ]
  },
  {
   "cell_type": "markdown",
   "id": "44ad4a34-069f-4d03-9c56-362c4bc1c0ef",
   "metadata": {},
   "source": [
    "- What are the ellipsoid and datum? What are they telling us about the CRS?\n",
    "    - ellipsoid: the abstract shape of the earth\n",
    "    - datum: grounds the abstract on the earth\n",
    "- What does it mean that the CRS is geographic and not projected?\n",
    "    - it means we are still looking at the whole are as one 3d object, we haven't projected it onto a flat surface yet\n",
    "    \n",
    "The **extent** of the GeoDataFrame is the counding box covering *all* the spatial features in out geo-dataframe.\n",
    "This is formed by finding the points that are furthest west, east, south, and north.\n"
   ]
  },
  {
   "cell_type": "code",
   "execution_count": 13,
   "id": "81456fe7-61c4-4697-bc5c-2e9bd13bf362",
   "metadata": {
    "tags": []
   },
   "outputs": [
    {
     "data": {
      "text/plain": [
       "array([-124.29448 ,   32.593433, -115.4356  ,   40.934296])"
      ]
     },
     "execution_count": 13,
     "metadata": {},
     "output_type": "execute_result"
    }
   ],
   "source": [
    "# Obtain the geographic extent of the geo-dataframe\n",
    "pigs.total_bounds"
   ]
  },
  {
   "cell_type": "markdown",
   "id": "2e546312-213b-4862-9cc0-ca5c0a35b429",
   "metadata": {},
   "source": [
    "## Check-in\n",
    "\n",
    "Print the CRS and extent for the CA boundary. Are both geo-dataframes in the same CRS?"
   ]
  },
  {
   "cell_type": "code",
   "execution_count": 15,
   "id": "c5aa9dca-522c-4f12-9271-2c584783e3ac",
   "metadata": {
    "tags": []
   },
   "outputs": [
    {
     "name": "stdout",
     "output_type": "stream",
     "text": [
      "CRS:  epsg:4326\n",
      "[-124.48201686   32.52883674 -114.13122248   42.00950827]\n"
     ]
    }
   ],
   "source": [
    "print('CRS: ', ca_boundary.crs)\n",
    "print(ca_boundary.total_bounds)"
   ]
  },
  {
   "cell_type": "markdown",
   "id": "5f10577e-b29b-46ae-a8be-8fd56013ebb5",
   "metadata": {},
   "source": [
    "## Data Wrangling\n",
    "\n",
    "`GeoPandas` is conveniently built on top of `pandas`, so we may use everything we have learned about data selection, wrangling, and modification for a `pandas.DataFrame` to wrangle `geopandas.GeoDataFrames`\n",
    "\n",
    "Example:\n",
    "\n",
    "We only want to use recent data for wild pig observations. A quick check shows that this dataframe has data since 1818:"
   ]
  },
  {
   "cell_type": "code",
   "execution_count": 16,
   "id": "fba0293c-0b69-4b12-9c97-15a18fcf38bf",
   "metadata": {
    "tags": []
   },
   "outputs": [
    {
     "data": {
      "text/plain": [
       "1818.0     31\n",
       "1910.0      1\n",
       "1925.0      1\n",
       "1927.0      4\n",
       "1929.0      3\n",
       "         ... \n",
       "2019.0    101\n",
       "2020.0    159\n",
       "2021.0    164\n",
       "2022.0    185\n",
       "2023.0     98\n",
       "Name: year, Length: 61, dtype: int64"
      ]
     },
     "execution_count": 16,
     "metadata": {},
     "output_type": "execute_result"
    }
   ],
   "source": [
    "# Examine pig observations by year\n",
    "pigs.year.value_counts().sort_index()"
   ]
  },
  {
   "cell_type": "code",
   "execution_count": 17,
   "id": "bb54a6c3-6c83-4c16-9a59-9f87b0f5d209",
   "metadata": {
    "tags": []
   },
   "outputs": [
    {
     "name": "stdout",
     "output_type": "stream",
     "text": [
      "Total number of observations  1046\n",
      "Number of observations since 2020  447\n"
     ]
    }
   ],
   "source": [
    "# Select data from 2020 onwards:\n",
    "pigs_recent = pigs[pigs.year>2020]\n",
    "\n",
    "# Check the length of original data frame\n",
    "print('Total number of observations ', len(pigs))\n",
    "\n",
    "# check the legth of the new dataframe\n",
    "print('Number of observations since 2020 ', len(pigs_recent))"
   ]
  },
  {
   "cell_type": "markdown",
   "id": "42d14f36-051f-43c5-8782-7fa7f35ca8ee",
   "metadata": {},
   "source": [
    "## Create a map\n",
    "\n",
    "Similarly to a p`andas.DataFrame`, a `geopandas.GeoDataFrame` has a `plot()` method that we can call directly to create a quick view of our data. The geospatial information of the `geopandas.GeoDataFrame` will be used to create the axes of the plot.\n",
    "\n",
    "Example:"
   ]
  },
  {
   "cell_type": "code",
   "execution_count": 18,
   "id": "8977f5d8-90cc-4fd0-83d0-841240ecce9d",
   "metadata": {
    "tags": []
   },
   "outputs": [
    {
     "data": {
      "text/plain": [
       "<AxesSubplot:>"
      ]
     },
     "execution_count": 18,
     "metadata": {},
     "output_type": "execute_result"
    },
    {
     "data": {
      "image/png": "[encoded data removed]",
      "text/plain": [
       "<Figure size 640x480 with 1 Axes>"
      ]
     },
     "metadata": {},
     "output_type": "display_data"
    }
   ],
   "source": [
    "pigs_recent.plot()"
   ]
  },
  {
   "cell_type": "markdown",
   "id": "bfdd4eb2-9ad6-455d-8186-47820870d1a3",
   "metadata": {},
   "source": [
    "## `matplotlib`'s `fig` and `ax`\n",
    "\n",
    "Matplotlib graphs the data in a **figure** which can have one or more **axes**. \n",
    "\n",
    "The *axes* is only the area specified by a pair of x,y axes and what is plotted in it.\n",
    "\n",
    "The *figure* can icnlude multiple axes\n",
    "\n",
    "To create a blank figure:"
   ]
  },
  {
   "cell_type": "code",
   "execution_count": 19,
   "id": "3911cbca-4e37-4f0a-be8c-c8508371471d",
   "metadata": {
    "tags": []
   },
   "outputs": [
    {
     "data": {
      "image/png": "[encoded data removed]",
      "text/plain": [
       "<Figure size 640x480 with 1 Axes>"
      ]
     },
     "metadata": {},
     "output_type": "display_data"
    }
   ],
   "source": [
    "# Initialize empty figure (fig) and axis (ax)\n",
    "fig, ax = plt.subplots()\n",
    "\n",
    "# Display figure\n",
    "plt.show()"
   ]
  },
  {
   "cell_type": "markdown",
   "id": "55a0e3f5-0edd-4f86-8719-d271d989cff9",
   "metadata": {},
   "source": [
    "## Add layers"
   ]
  },
  {
   "cell_type": "code",
   "execution_count": 25,
   "id": "db08f8ab-1ed4-4c38-9d3c-2fbba6122781",
   "metadata": {
    "tags": []
   },
   "outputs": [
    {
     "data": {
      "image/png": "[encoded data removed]",
      "text/plain": [
       "<Figure size 640x480 with 1 Axes>"
      ]
     },
     "metadata": {},
     "output_type": "display_data"
    }
   ],
   "source": [
    "# Initialize empty figure (fig) and axis (ax)\n",
    "fig, ax = plt.subplots()\n",
    "\n",
    "# Add CA boundary\n",
    "ca_boundary.plot(ax = ax,\n",
    "                color = 'none',\n",
    "                edgecolor = 'black')\n",
    "\n",
    "# Add pigs point plot to our figure's axis\n",
    "pigs_recent.plot(ax=ax,\n",
    "                alpha = 0.5,\n",
    "                color = 'brown')\n",
    "\n",
    "# Customization\n",
    "ax.set_title('Reported \"Sus scrofa\" sightings in CA (2020-2023)')\n",
    "ax.set_xlabel('Longitude')\n",
    "ax.set_ylabel('Latitude')\n",
    "\n",
    "# Display figure\n",
    "plt.show()"
   ]
  },
  {
   "cell_type": "code",
   "execution_count": null,
   "id": "7e2ca3cb-647d-498b-96c3-e3114e73fcb7",
   "metadata": {},
   "outputs": [],
   "source": []
  }
 ],
 "metadata": {
  "kernelspec": {
   "display_name": "Anaconda 3 (Base)",
   "language": "python",
   "name": "base"
  },
  "language_info": {
   "codemirror_mode": {
    "name": "ipython",
    "version": 3
   },
   "file_extension": ".py",
   "mimetype": "text/x-python",
   "name": "python",
   "nbconvert_exporter": "python",
   "pygments_lexer": "ipython3",
   "version": "3.9.13"
  }
 },
 "nbformat": 4,
 "nbformat_minor": 5
}
